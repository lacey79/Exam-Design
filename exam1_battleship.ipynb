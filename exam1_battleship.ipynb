{
 "cells": [
  {
   "cell_type": "markdown",
   "id": "dcbda660",
   "metadata": {},
   "source": [
    "# SP23 - CS220:\n",
    "# POKEMON BATTLE\n",
    "#### Writer: Lacey D."
   ]
  },
  {
   "cell_type": "markdown",
   "id": "3e56c836",
   "metadata": {},
   "source": [
    "The cell function below can be used to print the Snake game given below ('S' represents position occupied by snake, 'M' represents the position with food and '.' represents empty space. Use this code for the following 8 questions.\n",
    "\n",
    "```\n",
    "SSSSSS\n",
    "S.....\n",
    "SSSSSS\n",
    "...M.S\n",
    "SSSSSS\n",
    "S.....\n",
    "```"
   ]
  },
  {
   "cell_type": "code",
   "execution_count": 15,
   "id": "55be5470",
   "metadata": {},
   "outputs": [],
   "source": [
    "def draw (x,y,rows=6,cols=6):           #line 1\n",
    "    for i in range(0, rows):            #line 2\n",
    "        for j in range(0, cols):        #line 3\n",
    "            if i==x and j==y:           #line 4\n",
    "                print(\"M\", end=\"\")      #line 5\n",
    "            elif i%4 == 0 or i%4 == 2:  #line 6\n",
    "                print(\"S\", end=\"\")      #line 7\n",
    "            elif i%4==1 and j==0:       #line 8\n",
    "                print(\"S\", end=\"\")      #line 9\n",
    "            elif i%4==3 and j==cols-1:  #line 10\n",
    "                print(\"S\", end=\"\")      #line 11\n",
    "            else:                       #line 12\n",
    "                print(\".\", end=\"\")      #line 13\n",
    "        print()                         #line 14\n"
   ]
  },
  {
   "cell_type": "markdown",
   "id": "41088e43",
   "metadata": {},
   "source": [
    "# Question 1\n",
    "What are the dimensions of the grid displayed (rows X columns) after executing the function call `draw(3, 3, 7)`?\n",
    "\n",
    "A. 3 X 3\n",
    "\n",
    "B. 3 X 7\n",
    "\n",
    "C. 7 X 6\n",
    "\n",
    "D. 6 X 6\n",
    "\n",
    "Correct C"
   ]
  },
  {
   "cell_type": "code",
   "execution_count": 16,
   "id": "a7e2d5c7",
   "metadata": {},
   "outputs": [
    {
     "name": "stdout",
     "output_type": "stream",
     "text": [
      "SSSSSS\n",
      "S.....\n",
      "SSSSSS\n",
      "...M.S\n",
      "SSSSSS\n",
      "S.....\n",
      "SSSSSS\n"
     ]
    }
   ],
   "source": [
    "draw(3, 3, 7) # 7X6 grid displayed"
   ]
  },
  {
   "cell_type": "markdown",
   "id": "5944a86b",
   "metadata": {},
   "source": [
    "# Question 2\n",
    "What of the following function call will produce a grid shown in the question?\n",
    "\n",
    "A. `draw(3, 3, 6)`\n",
    "\n",
    "B. `draw(3, 6)`\n",
    "\n",
    "C. `draw(4, 4)`\n",
    "\n",
    "D. `draw(4, 4, 6, 6)`\n",
    "\n",
    "Correct A"
   ]
  },
  {
   "cell_type": "code",
   "execution_count": 17,
   "id": "b538b2e7",
   "metadata": {},
   "outputs": [
    {
     "name": "stdout",
     "output_type": "stream",
     "text": [
      "SSSSSS\n",
      "S.....\n",
      "SSSSSS\n",
      "...M.S\n",
      "SSSSSS\n",
      "S.....\n",
      "\n",
      "SSSSSS\n",
      "S.....\n",
      "SSSSSS\n",
      ".....S\n",
      "SSSSSS\n",
      "S.....\n",
      "\n",
      "SSSSSS\n",
      "S.....\n",
      "SSSSSS\n",
      ".....S\n",
      "SSSSMS\n",
      "S.....\n",
      "\n",
      "SSSSSS\n",
      "S.....\n",
      "SSSSSS\n",
      ".....S\n",
      "SSSSMS\n",
      "S.....\n"
     ]
    }
   ],
   "source": [
    "draw(3,3,6) # correct grid\n",
    "print()\n",
    "draw(3,6)\n",
    "print()\n",
    "draw(4,4)\n",
    "print()\n",
    "draw(4,4,6,6)"
   ]
  },
  {
   "cell_type": "markdown",
   "id": "8103998a",
   "metadata": {},
   "source": [
    "# Question 3\n",
    "The following print statement is equal to which of these function calls?\n",
    "```\n",
    "print(\"SSS\\n\" + \"SM.\\n\" + (\"S\")*3)\n",
    "```\n",
    "\n",
    "A. `draw(1, 1, 2, 3)`\n",
    "\n",
    "B. `draw(1, 1, 3, 3)`\n",
    "\n",
    "C. `draw(2, 2, 3, 3)`\n",
    "\n",
    "D. `draw(2, 2, 3)`\n",
    "\n",
    "Correct B"
   ]
  },
  {
   "cell_type": "code",
   "execution_count": 18,
   "id": "6d8aa399",
   "metadata": {},
   "outputs": [
    {
     "name": "stdout",
     "output_type": "stream",
     "text": [
      "SSS\n",
      "SM.\n",
      "SSS\n",
      "\n",
      "Same grid\n",
      "SSS\n",
      "SM.\n",
      "SSS\n",
      "\n",
      "Different grid\n",
      "SSS\n",
      "SM.\n",
      "\n",
      "SSS\n",
      "S..\n",
      "SSM\n",
      "\n",
      "SSSSSS\n",
      "S.....\n",
      "SSMSSS\n"
     ]
    }
   ],
   "source": [
    "print(\"SSS\\n\" + \"SM.\\n\" + (\"S\")*3)\n",
    "print(\"\\nSame grid\")\n",
    "draw(1, 1, 3, 3) #correct answer\n",
    "print(\"\\nDifferent grid\")\n",
    "draw(1, 1, 2, 3)\n",
    "print()\n",
    "draw(2, 2, 3, 3)\n",
    "print()\n",
    "draw(2, 2, 3)"
   ]
  },
  {
   "cell_type": "markdown",
   "id": "2a4240ca",
   "metadata": {},
   "source": [
    "# Question 4\n",
    "What would the function call `draw(“0”, “1”)` evaluate to?\n",
    "\n",
    "A. “M” in the first row, second column\n",
    "\n",
    "B. “M” in the top left corner\n",
    "\n",
    "C. “M” in the second row, first column\n",
    "\n",
    "D. Syntax Error\n",
    "\n",
    "Correct D"
   ]
  },
  {
   "cell_type": "code",
   "execution_count": 19,
   "id": "87bf334b",
   "metadata": {},
   "outputs": [
    {
     "ename": "SyntaxError",
     "evalue": "invalid character '“' (U+201C) (1562302467.py, line 1)",
     "output_type": "error",
     "traceback": [
      "\u001b[0;36m  File \u001b[0;32m\"/var/folders/tz/7nk6mldj5yxdbswnnqvx8wmw0000gn/T/ipykernel_24135/1562302467.py\"\u001b[0;36m, line \u001b[0;32m1\u001b[0m\n\u001b[0;31m    draw(“0”, “1”)\u001b[0m\n\u001b[0m         ^\u001b[0m\n\u001b[0;31mSyntaxError\u001b[0m\u001b[0;31m:\u001b[0m invalid character '“' (U+201C)\n"
     ]
    }
   ],
   "source": [
    "draw(“0”, “1”)"
   ]
  },
  {
   "cell_type": "markdown",
   "id": "e7846697",
   "metadata": {},
   "source": [
    "# Question 5\n",
    "Which of the following function call results in no M being printed?\n",
    "\n",
    "A. `draw(1,1)`\n",
    "\n",
    "B. `draw(0,0)`\n",
    "\n",
    "C. `draw(6,6)`\n",
    "\n",
    "D. None of the above\n",
    "\n",
    "Correct C"
   ]
  },
  {
   "cell_type": "code",
   "execution_count": 21,
   "id": "e63d8fe0",
   "metadata": {},
   "outputs": [
    {
     "name": "stdout",
     "output_type": "stream",
     "text": [
      "SSSSSS\n",
      "SM....\n",
      "SSSSSS\n",
      ".....S\n",
      "SSSSSS\n",
      "S.....\n",
      "\n",
      "MSSSSS\n",
      "S.....\n",
      "SSSSSS\n",
      ".....S\n",
      "SSSSSS\n",
      "S.....\n",
      "\n",
      "SSSSSS\n",
      "S.....\n",
      "SSSSSS\n",
      ".....S\n",
      "SSSSSS\n",
      "S.....\n"
     ]
    }
   ],
   "source": [
    "draw(1,1)\n",
    "print()\n",
    "draw(0,0)\n",
    "print()\n",
    "draw(6,6)"
   ]
  },
  {
   "cell_type": "markdown",
   "id": "0f451007",
   "metadata": {},
   "source": [
    "# Question 6\n",
    "How many M’s will be printed if the `“and”` in the `line 4` is changed to `“or”` with function call `draw (2,2,4,4)`?\n",
    "\n",
    "A. 7\n",
    "\n",
    "B. 8\n",
    "\n",
    "C. 4\n",
    "\n",
    "D. 16\n",
    "\n",
    "Correct A"
   ]
  },
  {
   "cell_type": "code",
   "execution_count": 22,
   "id": "d0dc2cd6",
   "metadata": {},
   "outputs": [],
   "source": [
    "def draw (x,y,rows=6,cols=6):           #line 1\n",
    "    for i in range(0, rows):            #line 2\n",
    "        for j in range(0, cols):        #line 3\n",
    "            if i==x or j==y:           #line 4\n",
    "                print(\"M\", end=\"\")      #line 5\n",
    "            elif i%4 == 0 or i%4 == 2:  #line 6\n",
    "                print(\"S\", end=\"\")      #line 7\n",
    "            elif i%4==1 and j==0:       #line 8\n",
    "                print(\"S\", end=\"\")      #line 9\n",
    "            elif i%4==3 and j==cols-1:  #line 10\n",
    "                print(\"S\", end=\"\")      #line 11\n",
    "            else:                       #line 12\n",
    "                print(\".\", end=\"\")      #line 13\n",
    "        print()                         #line 14"
   ]
  },
  {
   "cell_type": "code",
   "execution_count": 23,
   "id": "134c68b6",
   "metadata": {},
   "outputs": [
    {
     "name": "stdout",
     "output_type": "stream",
     "text": [
      "SSMS\n",
      "S.M.\n",
      "MMMM\n",
      "..MS\n"
     ]
    }
   ],
   "source": [
    "draw (2,2,4,4)"
   ]
  },
  {
   "cell_type": "code",
   "execution_count": 24,
   "id": "5f2688ec",
   "metadata": {},
   "outputs": [],
   "source": [
    "def draw (x,y,rows=6,cols=6):           #line 1\n",
    "    for i in range(0, rows):            #line 2\n",
    "        for j in range(0, cols):        #line 3\n",
    "            if i==x and j==y:           #line 4\n",
    "                print(\"M\", end=\"\")      #line 5\n",
    "            elif i%4 == 0 or i%4 == 2:  #line 6\n",
    "                print(\"S\", end=\"\")      #line 7\n",
    "            elif i%4==1 and j==0:       #line 8\n",
    "                print(\"S\", end=\"\")      #line 9\n",
    "            elif i%4==3 and j==cols-1:  #line 10\n",
    "                print(\"S\", end=\"\")      #line 11\n",
    "            else:                       #line 12\n",
    "                print(\".\", end=\"\")      #line 13\n",
    "        print()                         #line 14"
   ]
  },
  {
   "cell_type": "markdown",
   "id": "27e5364d",
   "metadata": {},
   "source": [
    "# Question 7\n",
    "Which of the following is NOT a valid function call to draw?\n",
    "\n",
    "A. `draw(x=1, y=1)`\n",
    "\n",
    "B. `draw(x=1, y=1, cols=4, rows=4)`\n",
    "\n",
    "C. `draw(x=1, rows=4, cols=4)`\n",
    "\n",
    "D. `draw(1, 1, cols=2)`\n",
    "\n",
    "Correct C"
   ]
  },
  {
   "cell_type": "code",
   "execution_count": 25,
   "id": "5481d0c4",
   "metadata": {},
   "outputs": [
    {
     "name": "stdout",
     "output_type": "stream",
     "text": [
      "SSSSSS\n",
      "SM....\n",
      "SSSSSS\n",
      ".....S\n",
      "SSSSSS\n",
      "S.....\n",
      "\n",
      "SSSS\n",
      "SM..\n",
      "SSSS\n",
      "...S\n",
      "\n",
      "SS\n",
      "SM\n",
      "SS\n",
      ".S\n",
      "SS\n",
      "S.\n",
      "\n"
     ]
    },
    {
     "ename": "TypeError",
     "evalue": "draw() missing 1 required positional argument: 'y'",
     "output_type": "error",
     "traceback": [
      "\u001b[0;31m---------------------------------------------------------------------------\u001b[0m",
      "\u001b[0;31mTypeError\u001b[0m                                 Traceback (most recent call last)",
      "\u001b[0;32m/var/folders/tz/7nk6mldj5yxdbswnnqvx8wmw0000gn/T/ipykernel_24135/2131063364.py\u001b[0m in \u001b[0;36m<module>\u001b[0;34m\u001b[0m\n\u001b[1;32m      7\u001b[0m \u001b[0;34m\u001b[0m\u001b[0m\n\u001b[1;32m      8\u001b[0m \u001b[0;31m#correct answer - error\u001b[0m\u001b[0;34m\u001b[0m\u001b[0;34m\u001b[0m\u001b[0m\n\u001b[0;32m----> 9\u001b[0;31m \u001b[0mdraw\u001b[0m\u001b[0;34m(\u001b[0m\u001b[0mx\u001b[0m\u001b[0;34m=\u001b[0m\u001b[0;36m1\u001b[0m\u001b[0;34m,\u001b[0m \u001b[0mrows\u001b[0m\u001b[0;34m=\u001b[0m\u001b[0;36m4\u001b[0m\u001b[0;34m,\u001b[0m \u001b[0mcols\u001b[0m\u001b[0;34m=\u001b[0m\u001b[0;36m4\u001b[0m\u001b[0;34m)\u001b[0m\u001b[0;34m\u001b[0m\u001b[0;34m\u001b[0m\u001b[0m\n\u001b[0m",
      "\u001b[0;31mTypeError\u001b[0m: draw() missing 1 required positional argument: 'y'"
     ]
    }
   ],
   "source": [
    "draw(x=1, y=1)\n",
    "print()\n",
    "draw(x=1, y=1, cols=4, rows=4)\n",
    "print()\n",
    "draw(1, 1, cols=2)\n",
    "print()\n",
    "\n",
    "#correct answer - error\n",
    "draw(x=1, rows=4, cols=4)"
   ]
  },
  {
   "cell_type": "markdown",
   "id": "7a0fccbb",
   "metadata": {},
   "source": [
    "# Question 8\n",
    "How many times the condition in line 8 is evaluated when `draw(2,2,4,4)` is called?\n",
    "\n",
    "A. 4\n",
    "\n",
    "B. 8\n",
    "\n",
    "C. 15\n",
    "\n",
    "D. 16\n",
    "\n",
    "Correct B"
   ]
  },
  {
   "cell_type": "code",
   "execution_count": 26,
   "id": "8c860ab3",
   "metadata": {},
   "outputs": [],
   "source": [
    "def draw (x,y,rows=6,cols=6):           #line 1\n",
    "    count = 0\n",
    "    for i in range(0, rows):            #line 2\n",
    "        for j in range(0, cols):        #line 3\n",
    "            count += 1\n",
    "            if i==x and j==y:           #line 4\n",
    "                count -= 1\n",
    "                print(\"M\", end=\"\")      #line 5\n",
    "            elif i%4 == 0 or i%4 == 2:  #line 6\n",
    "                count -= 1\n",
    "                print(\"S\", end=\"\")      #line 7\n",
    "            elif i%4==1 and j==0:       #line 8\n",
    "                print(\"S\", end=\"\")      #line 9\n",
    "            elif i%4==3 and j==cols-1:  #line 10\n",
    "                print(\"S\", end=\"\")      #line 11\n",
    "            else:                       #line 12\n",
    "                print(\".\", end=\"\")      #line 13\n",
    "        print()                         #line 14\n",
    "    print(count)"
   ]
  },
  {
   "cell_type": "code",
   "execution_count": 27,
   "id": "a550c9f8",
   "metadata": {},
   "outputs": [
    {
     "name": "stdout",
     "output_type": "stream",
     "text": [
      "SSSS\n",
      "S...\n",
      "SSMS\n",
      "...S\n",
      "8\n"
     ]
    }
   ],
   "source": [
    "draw(2,2,4,4)"
   ]
  }
 ],
 "metadata": {
  "kernelspec": {
   "display_name": "Python 3 (ipykernel)",
   "language": "python",
   "name": "python3"
  },
  "language_info": {
   "codemirror_mode": {
    "name": "ipython",
    "version": 3
   },
   "file_extension": ".py",
   "mimetype": "text/x-python",
   "name": "python",
   "nbconvert_exporter": "python",
   "pygments_lexer": "ipython3",
   "version": "3.9.12"
  }
 },
 "nbformat": 4,
 "nbformat_minor": 5
}
