{
 "cells": [
  {
   "cell_type": "markdown",
   "id": "601aae69",
   "metadata": {},
   "source": [
    "# SP23 - CS220:\n",
    "# General\n",
    "#### Writer: Lacey D."
   ]
  },
  {
   "cell_type": "markdown",
   "id": "d3232e12",
   "metadata": {},
   "source": [
    "The questions cover *Week 5: Strings* to *Week 7: JSON* (**Strings, Lists, Dictionaries, CSV Files, JSON**)"
   ]
  },
  {
   "cell_type": "code",
   "execution_count": 45,
   "id": "d7dc8f38",
   "metadata": {},
   "outputs": [
    {
     "name": "stdout",
     "output_type": "stream",
     "text": [
      "  A. 4\n",
      "  B. 5\n",
      "  C. 6\n",
      "  D. 9\n",
      "  E. 10\n",
      "\n",
      "  \\answer{\\tt{4}}\n",
      "  \\answer{\\tt{5}}\n",
      "  \\answer{\\tt{6}}\n",
      "  \\correct{\\tt{9}}\n",
      "  \\answer{\\tt{10}}\n",
      "\n"
     ]
    }
   ],
   "source": [
    "import re\n",
    "def format_answers(s):\n",
    "    s = list(filter(lambda x: len(x) > 0, re.sub(\"[ABCDEF]. \",'',s.replace('`','').replace('_','\\_')).split(\"\\n\")))\n",
    "    # print(s)\n",
    "    correct = s[-1][-1]\n",
    "    s = s[:-1]\n",
    "    correct_index = \"ABCDE\".find(correct.upper())\n",
    "    answers = \"\"\n",
    "    for i in range(len(\"ABCDE\"[0:len(s)])):\n",
    "        print(\"  {}. {}\".format(\"ABCDE\"[i],s[i]))\n",
    "    print()\n",
    "    for i in range(len(s)):\n",
    "        if (i == correct_index):\n",
    "            answers += \"  \\\\correct{\\\\tt{\"\n",
    "        else:\n",
    "            answers += \"  \\\\answer{\\\\tt{\"\n",
    "        answers += s[i]\n",
    "        answers += \"}}\\n\"\n",
    "    print(answers)\n",
    "\n",
    "format_answers(\"\"\"\n",
    "4\n",
    "5\n",
    "6\n",
    "9\n",
    "10\n",
    "Correct = D\n",
    "\"\"\")"
   ]
  },
  {
   "cell_type": "markdown",
   "id": "ec738b9e",
   "metadata": {},
   "source": [
    "# Question 1:\n",
    "What is the default delimiter between columns in a CSV file?\n",
    "\n"
   ]
  },
  {
   "cell_type": "code",
   "execution_count": 49,
   "id": "bf31b7f8",
   "metadata": {},
   "outputs": [
    {
     "name": "stdout",
     "output_type": "stream",
     "text": [
      "  A. colon\n",
      "  B. newline\n",
      "  C. semicolon\n",
      "  D. comma\n",
      "\n",
      "  \\answer{\\tt{colon}}\n",
      "  \\answer{\\tt{newline}}\n",
      "  \\answer{\\tt{semicolon}}\n",
      "  \\correct{\\tt{comma}}\n",
      "\n"
     ]
    }
   ],
   "source": [
    "format_answers(\"\"\"\n",
    "colon\n",
    "newline\n",
    "semicolon\n",
    "comma\n",
    "Correct = D\n",
    "\"\"\")"
   ]
  },
  {
   "cell_type": "markdown",
   "id": "a6b3d284",
   "metadata": {},
   "source": [
    "# Question 2:\n",
    "Which of the following is a valid JSON?\n"
   ]
  },
  {
   "cell_type": "code",
   "execution_count": 48,
   "id": "22643639",
   "metadata": {},
   "outputs": [
    {
     "name": "stdout",
     "output_type": "stream",
     "text": [
      "  A. {'No Country for Old Men':{'2020':True,'duration': None}}\n",
      "  B. {'No Country for Old Men':{2020:true,'duration': None}}\n",
      "  C. {\"No Country for Old Men\":{\"2020\":true,\"duration\":null}}\n",
      "  D. {\"No Country for Old Men\":{\"2020\":True,\"duration\":null}}\n",
      "\n",
      "  \\answer{\\tt{{'No Country for Old Men':{'2020':True,'duration': None}}}}\n",
      "  \\answer{\\tt{{'No Country for Old Men':{2020:true,'duration': None}}}}\n",
      "  \\correct{\\tt{{\"No Country for Old Men\":{\"2020\":true,\"duration\":null}}}}\n",
      "  \\answer{\\tt{{\"No Country for Old Men\":{\"2020\":True,\"duration\":null}}}}\n",
      "\n"
     ]
    }
   ],
   "source": [
    "format_answers(\"\"\"\n",
    "{'No Country for Old Men':{'2020':True,'duration': None}}\n",
    "{'No Country for Old Men':{2020:true,'duration': None}}\n",
    "{\"No Country for Old Men\":{\"2020\":true,\"duration\":null}}\n",
    "{\"No Country for Old Men\":{\"2020\":True,\"duration\":null}}\n",
    "Correct = C\n",
    "\"\"\")"
   ]
  },
  {
   "cell_type": "markdown",
   "id": "5107d144",
   "metadata": {},
   "source": [
    "# Question 3:\n",
    "What is the output of the following code? \n"
   ]
  },
  {
   "cell_type": "code",
   "execution_count": 4,
   "id": "613d2e17",
   "metadata": {},
   "outputs": [
    {
     "data": {
      "text/plain": [
       "'HLO'"
      ]
     },
     "execution_count": 4,
     "metadata": {},
     "output_type": "execute_result"
    }
   ],
   "source": [
    "str1 = \"hello\"\n",
    "new_str = \"\"\n",
    "count = 0 \n",
    "while count < len(str1): \n",
    "    new_str += str1[count].upper()\n",
    "    count += 2\n",
    "new_str"
   ]
  },
  {
   "cell_type": "code",
   "execution_count": 50,
   "id": "08c48350",
   "metadata": {},
   "outputs": [
    {
     "name": "stdout",
     "output_type": "stream",
     "text": [
      "  A. 'HLO'\n",
      "  B. 'hlo'\n",
      "  C. 'HELLO'\n",
      "  D. 'HEO'\n",
      "\n",
      "  \\correct{\\tt{'HLO'}}\n",
      "  \\answer{\\tt{'hlo'}}\n",
      "  \\answer{\\tt{'HELLO'}}\n",
      "  \\answer{\\tt{'HEO'}}\n",
      "\n"
     ]
    }
   ],
   "source": [
    "format_answers(\"\"\"\n",
    "'HLO'\n",
    "'hlo'\n",
    "'HELLO'\n",
    "'HEO'\n",
    "Correct = A\n",
    "\"\"\")"
   ]
  },
  {
   "cell_type": "markdown",
   "id": "d00e5c1f",
   "metadata": {},
   "source": [
    "# Question 4:\n",
    "What is the output of the following code? \n"
   ]
  },
  {
   "cell_type": "code",
   "execution_count": 10,
   "id": "2c894621",
   "metadata": {},
   "outputs": [
    {
     "name": "stdout",
     "output_type": "stream",
     "text": [
      "i\n"
     ]
    }
   ],
   "source": [
    "sentence = \"Alice; Bob; Caroline; David\"\n",
    "words = sentence.split(\"; \")\n",
    "print(words[3][-2])\n"
   ]
  },
  {
   "cell_type": "code",
   "execution_count": 51,
   "id": "2f09178b",
   "metadata": {},
   "outputs": [
    {
     "name": "stdout",
     "output_type": "stream",
     "text": [
      "  A. 'Caroline'\n",
      "  B. 'i'\n",
      "  C. 'd'\n",
      "  D. 'David'\n",
      "\n",
      "  \\answer{\\tt{'Caroline'}}\n",
      "  \\correct{\\tt{'i'}}\n",
      "  \\answer{\\tt{'d'}}\n",
      "  \\answer{\\tt{'David'}}\n",
      "\n"
     ]
    }
   ],
   "source": [
    "format_answers(\"\"\"\n",
    "'Caroline'\n",
    "'i'\n",
    "'d'\n",
    "'David'\n",
    "Correct = B\n",
    "\"\"\")"
   ]
  },
  {
   "cell_type": "markdown",
   "id": "906f5bfa",
   "metadata": {},
   "source": [
    "# Question 5:\n",
    "What is the output of the following code? \n"
   ]
  },
  {
   "cell_type": "code",
   "execution_count": 39,
   "id": "3141775e",
   "metadata": {},
   "outputs": [
    {
     "data": {
      "text/plain": [
       "[5, 4, 3, 2, 1, 'six', 6]"
      ]
     },
     "execution_count": 39,
     "metadata": {},
     "output_type": "execute_result"
    }
   ],
   "source": [
    "list1 = [2,5,1,4,1,3]\n",
    "list1 = sorted(list1, reverse=True)\n",
    "list1.append((len(list1)))\n",
    "list1[5] = 'six'\n",
    "list1"
   ]
  },
  {
   "cell_type": "code",
   "execution_count": 52,
   "id": "89ae9338",
   "metadata": {},
   "outputs": [
    {
     "name": "stdout",
     "output_type": "stream",
     "text": [
      "  A. [5, 4, 3, 2, 1, 'six', 6]\n",
      "  B. [5, 4, 3, 2, 1, 1, 6]\n",
      "  C. [5, 4, 3, 2, 1, 5]\n",
      "  D. [2, 5, 1, 4, 3, 'six', 6]\n",
      "\n",
      "  \\correct{\\tt{[5, 4, 3, 2, 1, 'six', 6]}}\n",
      "  \\answer{\\tt{[5, 4, 3, 2, 1, 1, 6]}}\n",
      "  \\answer{\\tt{[5, 4, 3, 2, 1, 5]}}\n",
      "  \\answer{\\tt{[2, 5, 1, 4, 3, 'six', 6]}}\n",
      "\n"
     ]
    }
   ],
   "source": [
    "format_answers(\"\"\"\n",
    "[5, 4, 3, 2, 1, 'six', 6]\n",
    "[5, 4, 3, 2, 1, 1, 6]\n",
    "[5, 4, 3, 2, 1, 5]\n",
    "[2, 5, 1, 4, 3, 'six', 6]\n",
    "Correct = A\n",
    "\"\"\")"
   ]
  },
  {
   "cell_type": "markdown",
   "id": "54a70973",
   "metadata": {},
   "source": [
    "# Question 6:\n",
    "What is the output of the following code? \n"
   ]
  },
  {
   "cell_type": "code",
   "execution_count": 37,
   "id": "303799fa",
   "metadata": {},
   "outputs": [
    {
     "name": "stdout",
     "output_type": "stream",
     "text": [
      "[1, 'two', 3] ['two']\n"
     ]
    }
   ],
   "source": [
    "list1 = [1, \"two\", 3, 5.6]\n",
    "new_list = [] \n",
    "for item in list1: \n",
    "    if type(item) == str:\n",
    "        list1.pop(-1)\n",
    "        new_list.append(item)\n",
    "print(list1, new_list)\n"
   ]
  },
  {
   "cell_type": "code",
   "execution_count": 53,
   "id": "42f97f2f",
   "metadata": {},
   "outputs": [
    {
     "name": "stdout",
     "output_type": "stream",
     "text": [
      "  A. [1, \"two\", 3, 5.6] ['two']\n",
      "  B. [1, 3, 5.6] ['two']\n",
      "  C. [1, 'two', 3] ['two']\n",
      "  D. [1, \"two\", 3, 5.6] []\n",
      "\n",
      "  \\answer{\\tt{[1, \"two\", 3, 5.6] ['two']}}\n",
      "  \\answer{\\tt{[1, 3, 5.6] ['two']}}\n",
      "  \\correct{\\tt{[1, 'two', 3] ['two']}}\n",
      "  \\answer{\\tt{[1, \"two\", 3, 5.6] []}}\n",
      "\n"
     ]
    }
   ],
   "source": [
    "format_answers(\"\"\"\n",
    "[1, \"two\", 3, 5.6] ['two']\n",
    "[1, 3, 5.6] ['two']\n",
    "[1, 'two', 3] ['two']\n",
    "[1, \"two\", 3, 5.6] []\n",
    "Correct = C\n",
    "\"\"\")"
   ]
  },
  {
   "cell_type": "markdown",
   "id": "7d43e21d",
   "metadata": {},
   "source": [
    "# Question 7:\n",
    "What is the output of the following code? \n"
   ]
  },
  {
   "cell_type": "code",
   "execution_count": 40,
   "id": "1e6923f9",
   "metadata": {},
   "outputs": [
    {
     "name": "stdout",
     "output_type": "stream",
     "text": [
      "3 3\n"
     ]
    }
   ],
   "source": [
    "my_dict = {'a': [1, 2, 3], 'b': {'x': 'apple', 'y': 'banana'}, 'hello': 'world'}\n",
    "my_dict['new_key'] = 'new_value'\n",
    "my_dict.pop('a')\n",
    "my_dict['b']['z'] = 'cherry'\n",
    "print(len(my_dict.keys()), len(my_dict.values()))\n"
   ]
  },
  {
   "cell_type": "code",
   "execution_count": 57,
   "id": "11ff7f40",
   "metadata": {},
   "outputs": [
    {
     "name": "stdout",
     "output_type": "stream",
     "text": [
      "  A. 4 4\n",
      "  B. ['a', 'b', 'hello'] [[1, 2, 3],{'x': 'apple', 'y': 'banana'}, 'world']\n",
      "  C. ['b', 'hello', 'new\\_key'] [{'x': 'apple', 'y': 'banana', 'z': 'cherry'}, 'world', 'new\\_value']\n",
      "  D. 3 3\n",
      "\n",
      "  \\answer{\\tt{4 4}}\n",
      "  \\answer{\\tt{['a', 'b', 'hello'] [[1, 2, 3],{'x': 'apple', 'y': 'banana'}, 'world']}}\n",
      "  \\answer{\\tt{['b', 'hello', 'new\\_key'] [{'x': 'apple', 'y': 'banana', 'z': 'cherry'}, 'world', 'new\\_value']}}\n",
      "  \\correct{\\tt{3 3}}\n",
      "\n"
     ]
    }
   ],
   "source": [
    "format_answers(\"\"\"\n",
    "4 4\n",
    "['a', 'b', 'hello'] [[1, 2, 3],{'x': 'apple', 'y': 'banana'}, 'world']\n",
    "['b', 'hello', 'new_key'] [{'x': 'apple', 'y': 'banana', 'z': 'cherry'}, 'world', 'new_value']\n",
    "3 3\n",
    "Correct = D\n",
    "\"\"\")"
   ]
  },
  {
   "cell_type": "markdown",
   "id": "f623b26d",
   "metadata": {},
   "source": [
    "# Question 8:\n",
    "What is the output of the following code? \n"
   ]
  },
  {
   "cell_type": "code",
   "execution_count": 43,
   "id": "569c54f7",
   "metadata": {},
   "outputs": [
    {
     "ename": "KeyError",
     "evalue": "2",
     "output_type": "error",
     "traceback": [
      "\u001b[0;31m---------------------------------------------------------------------------\u001b[0m",
      "\u001b[0;31mKeyError\u001b[0m                                  Traceback (most recent call last)",
      "Input \u001b[0;32mIn [43]\u001b[0m, in \u001b[0;36m<cell line: 3>\u001b[0;34m()\u001b[0m\n\u001b[1;32m      1\u001b[0m names \u001b[38;5;241m=\u001b[39m {\u001b[38;5;124m'\u001b[39m\u001b[38;5;124mAlice\u001b[39m\u001b[38;5;124m'\u001b[39m: \u001b[38;5;241m1\u001b[39m, \u001b[38;5;124m'\u001b[39m\u001b[38;5;124mBob\u001b[39m\u001b[38;5;124m'\u001b[39m: \u001b[38;5;241m2\u001b[39m, \u001b[38;5;124m'\u001b[39m\u001b[38;5;124mCaroline\u001b[39m\u001b[38;5;124m'\u001b[39m: \u001b[38;5;241m3\u001b[39m} \n\u001b[1;32m      2\u001b[0m names[\u001b[38;5;124m'\u001b[39m\u001b[38;5;124mDavid\u001b[39m\u001b[38;5;124m'\u001b[39m] \u001b[38;5;241m=\u001b[39m \u001b[38;5;241m4\u001b[39m \n\u001b[0;32m----> 3\u001b[0m \u001b[38;5;28mprint\u001b[39m(\u001b[43mnames\u001b[49m\u001b[43m[\u001b[49m\u001b[38;5;241;43m2\u001b[39;49m\u001b[43m]\u001b[49m)\n",
      "\u001b[0;31mKeyError\u001b[0m: 2"
     ]
    }
   ],
   "source": [
    "names = {'Alice': 1, 'Bob': 2, 'Caroline': 3} \n",
    "names['David'] = 4 \n",
    "print(names[2]) "
   ]
  },
  {
   "cell_type": "code",
   "execution_count": 55,
   "id": "31486b8a",
   "metadata": {},
   "outputs": [
    {
     "name": "stdout",
     "output_type": "stream",
     "text": [
      "  A. KeyError\n",
      "  B. 'Bob'\n",
      "  C. 'b'\n",
      "  D. 'David'\n",
      "\n",
      "  \\correct{\\tt{KeyError}}\n",
      "  \\answer{\\tt{'Bob'}}\n",
      "  \\answer{\\tt{'b'}}\n",
      "  \\answer{\\tt{'David'}}\n",
      "\n"
     ]
    }
   ],
   "source": [
    "format_answers(\"\"\"\n",
    "KeyError\n",
    "'Bob'\n",
    "'b'\n",
    "'David'\n",
    "Correct = A\n",
    "\"\"\")"
   ]
  }
 ],
 "metadata": {
  "kernelspec": {
   "display_name": "Python 3 (ipykernel)",
   "language": "python",
   "name": "python3"
  },
  "language_info": {
   "codemirror_mode": {
    "name": "ipython",
    "version": 3
   },
   "file_extension": ".py",
   "mimetype": "text/x-python",
   "name": "python",
   "nbconvert_exporter": "python",
   "pygments_lexer": "ipython3",
   "version": "3.9.12"
  }
 },
 "nbformat": 4,
 "nbformat_minor": 5
}
