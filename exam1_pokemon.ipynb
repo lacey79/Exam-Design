{
 "cells": [
  {
   "cell_type": "markdown",
   "id": "9df19884",
   "metadata": {},
   "source": [
    "# SP23 - CS220:\n",
    "# POKEMON BATTLE"
   ]
  },
  {
   "cell_type": "markdown",
   "id": "313e1b97",
   "metadata": {},
   "source": [
    "#### Writer: Lacey D."
   ]
  },
  {
   "cell_type": "markdown",
   "id": "4bd1d710",
   "metadata": {},
   "source": [
    "The data frame is inspired by this Pokemon stats collection: https://gist.github.com/armgilles/194bcff35001e7eb53a2a8b441e8b2c6"
   ]
  },
  {
   "cell_type": "code",
   "execution_count": 1,
   "id": "73294d09",
   "metadata": {},
   "outputs": [],
   "source": [
    "import pandas as pd"
   ]
  },
  {
   "cell_type": "code",
   "execution_count": 2,
   "id": "48f0f5c8",
   "metadata": {
    "scrolled": true
   },
   "outputs": [
    {
     "data": {
      "text/html": [
       "<div>\n",
       "<style scoped>\n",
       "    .dataframe tbody tr th:only-of-type {\n",
       "        vertical-align: middle;\n",
       "    }\n",
       "\n",
       "    .dataframe tbody tr th {\n",
       "        vertical-align: top;\n",
       "    }\n",
       "\n",
       "    .dataframe thead th {\n",
       "        text-align: right;\n",
       "    }\n",
       "</style>\n",
       "<table border=\"1\" class=\"dataframe\">\n",
       "  <thead>\n",
       "    <tr style=\"text-align: right;\">\n",
       "      <th></th>\n",
       "      <th>Name</th>\n",
       "      <th>Type 1</th>\n",
       "      <th>Type 2</th>\n",
       "      <th>Attack</th>\n",
       "      <th>Defense</th>\n",
       "      <th>HP</th>\n",
       "      <th>Legendary</th>\n",
       "    </tr>\n",
       "  </thead>\n",
       "  <tbody>\n",
       "    <tr>\n",
       "      <th>1</th>\n",
       "      <td>Bulbasaur</td>\n",
       "      <td>Grass</td>\n",
       "      <td>Poison</td>\n",
       "      <td>100</td>\n",
       "      <td>85</td>\n",
       "      <td>90</td>\n",
       "      <td>False</td>\n",
       "    </tr>\n",
       "    <tr>\n",
       "      <th>2</th>\n",
       "      <td>Nidoking</td>\n",
       "      <td>Poison</td>\n",
       "      <td>Ground</td>\n",
       "      <td>102</td>\n",
       "      <td>77</td>\n",
       "      <td>78</td>\n",
       "      <td>False</td>\n",
       "    </tr>\n",
       "    <tr>\n",
       "      <th>3</th>\n",
       "      <td>Charizard</td>\n",
       "      <td>Fire</td>\n",
       "      <td>Flying</td>\n",
       "      <td>84</td>\n",
       "      <td>78</td>\n",
       "      <td>80</td>\n",
       "      <td>True</td>\n",
       "    </tr>\n",
       "    <tr>\n",
       "      <th>4</th>\n",
       "      <td>Articuno</td>\n",
       "      <td>Ice</td>\n",
       "      <td>Flying</td>\n",
       "      <td>85</td>\n",
       "      <td>100</td>\n",
       "      <td>90</td>\n",
       "      <td>True</td>\n",
       "    </tr>\n",
       "    <tr>\n",
       "      <th>5</th>\n",
       "      <td>Swinub</td>\n",
       "      <td>Ground</td>\n",
       "      <td>Ice</td>\n",
       "      <td>77</td>\n",
       "      <td>102</td>\n",
       "      <td>50</td>\n",
       "      <td>True</td>\n",
       "    </tr>\n",
       "  </tbody>\n",
       "</table>\n",
       "</div>"
      ],
      "text/plain": [
       "        Name  Type 1  Type 2  Attack  Defense  HP  Legendary\n",
       "1  Bulbasaur   Grass  Poison     100       85  90      False\n",
       "2   Nidoking  Poison  Ground     102       77  78      False\n",
       "3  Charizard    Fire  Flying      84       78  80       True\n",
       "4   Articuno     Ice  Flying      85      100  90       True\n",
       "5     Swinub  Ground     Ice      77      102  50       True"
      ]
     },
     "execution_count": 2,
     "metadata": {},
     "output_type": "execute_result"
    }
   ],
   "source": [
    "data = {'Name': ['Bulbasaur', 'Nidoking', 'Charizard', 'Articuno', 'Swinub'], \\\n",
    "        'Type 1': ['Grass', 'Poison', 'Fire', 'Ice','Ground'], \\\n",
    "       'Type 2':['Poison','Ground','Flying', 'Flying','Ice'], \\\n",
    "       'Attack':[100, 102, 84, 85, 77], \\\n",
    "        'Defense':[85, 77, 78, 100, 102], \\\n",
    "       'HP':[90,78, 80, 90, 50], \\\n",
    "       'Legendary':[False, False, True, True, True]}\n",
    "\n",
    "df = pd.DataFrame(data, index=(1,2,3,4,5))\n",
    "df"
   ]
  },
  {
   "cell_type": "markdown",
   "id": "2ad48499",
   "metadata": {},
   "source": [
    "`type1()` , `type2()` , `attack()` , `defense()` , `hp()` , `legendary()` evaluate the respective value of the pokemon."
   ]
  },
  {
   "cell_type": "code",
   "execution_count": 3,
   "id": "5b94fd6d",
   "metadata": {},
   "outputs": [],
   "source": [
    "def type1(pkmn):\n",
    "    pkmn_idx = data['Name'].index(pkmn)\n",
    "    return data['Type 1'][pkmn_idx]\n",
    "\n",
    "def type2(pkmn):\n",
    "    pkmn_idx = data['Name'].index(pkmn)\n",
    "    return data['Type 2'][pkmn_idx]\n",
    "\n",
    "def attack(pkmn):\n",
    "    pkmn_idx = data['Name'].index(pkmn)\n",
    "    return data['Attack'][pkmn_idx]\n",
    "\n",
    "def defense(pkmn):\n",
    "    pkmn_idx = data['Name'].index(pkmn)\n",
    "    return data['Defense'][pkmn_idx]\n",
    "\n",
    "def hp(pkmn):\n",
    "    pkmn_idx = data['Name'].index(pkmn)\n",
    "    return data['HP'][pkmn_idx]\n",
    "\n",
    "def is_legendary(pkmn):\n",
    "    pkmn_idx = data['Name'].index(pkmn)\n",
    "    return data['Legendary'][pkmn_idx]\n"
   ]
  },
  {
   "cell_type": "markdown",
   "id": "8feaee04",
   "metadata": {},
   "source": [
    "#### *Question 1* to *Question 6* will use the function below"
   ]
  },
  {
   "cell_type": "code",
   "execution_count": 4,
   "id": "3cadf84b",
   "metadata": {},
   "outputs": [],
   "source": [
    "def battle(pkmn1 = 'Charizard', pkmn2 = \"Articuno\"):\n",
    "    if hp(pkmn1) > hp(pkmn2):\n",
    "        \n",
    "        if attack(pkmn1) > defense(pkmn2):\n",
    "            print( pkmn1 + \" attack first!\")\n",
    "            if is_legendary(pkmn1):\n",
    "                return pkmn1 + \" won legendarily!\"\n",
    "        \n",
    "           \n",
    "        elif attack(pkmn1) < defense(pkmn2):\n",
    "            print( pkmn2 + \" attack first!\")\n",
    "            if is_legendary(pkmn2):\n",
    "                return pkmn2 + \" won legendarily!\"\n",
    "            \n",
    "    if type1(pkmn1)=='Fire' or type2(pkmn1)=='Fire':\n",
    "        if type1(pkmn2)=='Ice' or type2(pkmn2)=='Ice':\n",
    "            return \"Incompatible. Can not battle!\"\n",
    "        else:\n",
    "            return \"It's a draw.\"\n",
    "    else:\n",
    "        return \"Please choose another match.\"\n",
    "            "
   ]
  },
  {
   "cell_type": "markdown",
   "id": "b822305d",
   "metadata": {},
   "source": [
    "# Question 1:\n",
    "What does `battle('Articuno', pkmn2='Swinub')` return?\n",
    "\n",
    "A. `'Articuno won legendarily!'`\n",
    "\n",
    "B. `'Swinub won legendarily!'`\n",
    "\n",
    "C. `'Please choose another match.''`\n",
    "\n",
    "D. `'Swinub attack first!'`\n",
    "\n",
    "E. `SyntaxError`\n",
    "\n",
    "Correct B"
   ]
  },
  {
   "cell_type": "code",
   "execution_count": 5,
   "id": "d24216c6",
   "metadata": {},
   "outputs": [
    {
     "name": "stdout",
     "output_type": "stream",
     "text": [
      "Swinub attack first!\n"
     ]
    },
    {
     "data": {
      "text/plain": [
       "'Swinub won legendarily!'"
      ]
     },
     "execution_count": 5,
     "metadata": {},
     "output_type": "execute_result"
    }
   ],
   "source": [
    "battle('Articuno', pkmn2='Swinub') #ANSWER"
   ]
  },
  {
   "cell_type": "markdown",
   "id": "7be25dcb",
   "metadata": {},
   "source": [
    "# Question 2 :\n",
    "What does `battle(pkmn1 = 'Bulbasaur','Articuno')` return?\n",
    "\n",
    "A. `'Incompatible. Can not battle!''`\n",
    "\n",
    "B. `\"It's a draw.\"`\n",
    "\n",
    "C. `'Please choose another match.''`\n",
    "\n",
    "D. `SyntaxError`\n",
    "\n",
    "E. `'Articuno won legendarily!'`\n",
    "\n",
    "Correct D"
   ]
  },
  {
   "cell_type": "code",
   "execution_count": 6,
   "id": "5b103b98",
   "metadata": {},
   "outputs": [
    {
     "ename": "SyntaxError",
     "evalue": "positional argument follows keyword argument (602836288.py, line 1)",
     "output_type": "error",
     "traceback": [
      "\u001b[0;36m  Input \u001b[0;32mIn [6]\u001b[0;36m\u001b[0m\n\u001b[0;31m    battle(pkmn1 = 'Bulbasaur','Articuno') #ANSWER\u001b[0m\n\u001b[0m                                         ^\u001b[0m\n\u001b[0;31mSyntaxError\u001b[0m\u001b[0;31m:\u001b[0m positional argument follows keyword argument\n"
     ]
    }
   ],
   "source": [
    "battle(pkmn1 = 'Bulbasaur','Articuno') #ANSWER\n",
    "\n",
    "#this will encounter error because arguments are not passed in the right order "
   ]
  },
  {
   "cell_type": "code",
   "execution_count": 7,
   "id": "b2202713",
   "metadata": {},
   "outputs": [
    {
     "data": {
      "text/plain": [
       "'Please choose another match.'"
      ]
     },
     "execution_count": 7,
     "metadata": {},
     "output_type": "execute_result"
    }
   ],
   "source": [
    "battle('Bulbasaur','Articuno') #Students might think this is the right answer"
   ]
  },
  {
   "cell_type": "markdown",
   "id": "c11c9125",
   "metadata": {},
   "source": [
    "# Question 3 :\n",
    "What does `battle('Charizard','Articuno')` return?\n",
    "\n",
    "A. `'Incompatible. Can not battle!''`\n",
    "\n",
    "B. `'Articuno won legendarily!'`\n",
    "\n",
    "C. `'Please choose another match.''`\n",
    "\n",
    "D. `\"It's a draw\"`\n",
    "\n",
    "E. `'Articuno attack first!'`\n",
    "\n",
    "Correct A"
   ]
  },
  {
   "cell_type": "code",
   "execution_count": 8,
   "id": "8bda5262",
   "metadata": {},
   "outputs": [
    {
     "data": {
      "text/plain": [
       "'Incompatible. Can not battle!'"
      ]
     },
     "execution_count": 8,
     "metadata": {},
     "output_type": "execute_result"
    }
   ],
   "source": [
    "battle('Charizard','Articuno') #ANSWER"
   ]
  },
  {
   "cell_type": "markdown",
   "id": "912f29e1",
   "metadata": {},
   "source": [
    "# Question 4 :\n",
    "\n",
    "Suppose 'Nidoking' is `pkmn1` and 'Articuno' is `pkmn2` , how many neccessary argument(s) do we need to pass to `battle` function?\n",
    "\n",
    "A. 4\n",
    "\n",
    "B. 3\n",
    "\n",
    "C. 2\n",
    "\n",
    "D. None needed cause both are specified as default arguments\n",
    "\n",
    "E. 1\n",
    "\n",
    "Correct E"
   ]
  },
  {
   "cell_type": "code",
   "execution_count": 9,
   "id": "9f44b1d6",
   "metadata": {},
   "outputs": [
    {
     "data": {
      "text/plain": [
       "'Please choose another match.'"
      ]
     },
     "execution_count": 9,
     "metadata": {},
     "output_type": "execute_result"
    }
   ],
   "source": [
    "battle('Nidoking') #ANSWER\n",
    "# 1 is enough"
   ]
  },
  {
   "cell_type": "markdown",
   "id": "0c75d791",
   "metadata": {},
   "source": [
    "# Question 5 :\n",
    "What does `battle(pkmn2 ='Nidoking', pkmn1='Charizard')` return?\n",
    "\n",
    "A. `'Please choose another match.'`\n",
    "\n",
    "B. `'Charizard won legendarily!'`\n",
    "\n",
    "C. `'Incompatible. Can not battle!'`\n",
    "\n",
    "D. `'Nidoking won legendarily!'`\n",
    "\n",
    "E. `\"It's a draw.\"`\n",
    "\n",
    "Correct B"
   ]
  },
  {
   "cell_type": "code",
   "execution_count": 10,
   "id": "9522b128",
   "metadata": {},
   "outputs": [
    {
     "name": "stdout",
     "output_type": "stream",
     "text": [
      "Charizard attack first!\n"
     ]
    },
    {
     "data": {
      "text/plain": [
       "'Charizard won legendarily!'"
      ]
     },
     "execution_count": 10,
     "metadata": {},
     "output_type": "execute_result"
    }
   ],
   "source": [
    "battle(pkmn2 ='Nidoking', pkmn1='Charizard') #ANSWER"
   ]
  },
  {
   "cell_type": "code",
   "execution_count": 11,
   "id": "7e355856",
   "metadata": {},
   "outputs": [
    {
     "data": {
      "text/plain": [
       "'Please choose another match.'"
      ]
     },
     "execution_count": 11,
     "metadata": {},
     "output_type": "execute_result"
    }
   ],
   "source": [
    "battle('Nidoking', 'Charizard') #Students might think this is the right answer"
   ]
  },
  {
   "cell_type": "markdown",
   "id": "bea0204b",
   "metadata": {},
   "source": [
    "# Question 6 :\n",
    "What does `battle('Charizard', 'Bulbasaur')` return?\n",
    "\n",
    "A. `'Bulbasaur won legendarily!'`\n",
    "\n",
    "B. `'Charizard won legendarily!'`\n",
    "\n",
    "C. `\"It's a draw.\"`\n",
    "\n",
    "D. `'Incompatible. Can not battle!'`\n",
    "\n",
    "E. `\"Please choose another match.\"`\n",
    "\n",
    "Correct C"
   ]
  },
  {
   "cell_type": "code",
   "execution_count": 12,
   "id": "0974f3d0",
   "metadata": {},
   "outputs": [
    {
     "data": {
      "text/plain": [
       "\"It's a draw.\""
      ]
     },
     "execution_count": 12,
     "metadata": {},
     "output_type": "execute_result"
    }
   ],
   "source": [
    "battle('Charizard', 'Bulbasaur') #ANSWER"
   ]
  },
  {
   "cell_type": "markdown",
   "id": "4c892a02",
   "metadata": {},
   "source": [
    "#### *Question 7* AND *Question 8* will use the function below"
   ]
  },
  {
   "cell_type": "code",
   "execution_count": 13,
   "id": "ce2fe537",
   "metadata": {},
   "outputs": [],
   "source": [
    "# To be the strongest Po'kemon. The object has to satisfy 1 of these:\n",
    "# - Has attack > 80 and hp >= 50\n",
    "# OR\n",
    "# - Has type 1 == 'Fire' and type 2 == 'Flying'\n",
    "\n",
    "def strongest_pokemon(hp, type1 , type2 = 'Flying', attack = 40):\n",
    "    if attack > 80:\n",
    "        if hp >= 50:\n",
    "            return True\n",
    "    \n",
    "    elif not type1 =='Fire':\n",
    "        return False\n",
    "    if not type2 == 'Flying':\n",
    "        return False\n",
    "    \n",
    "    return True\n"
   ]
  },
  {
   "cell_type": "markdown",
   "id": "e210ba33",
   "metadata": {},
   "source": [
    "# Question 7.1 :\n",
    "How many default arguments are there in `strongest_pokemon`?\n",
    "\n",
    "A. 1\n",
    "\n",
    "B. 2\n",
    "\n",
    "C. 3\n",
    "\n",
    "D. 4\n",
    "\n",
    "E. 5\n",
    "\n",
    "CORRECT ANSWER: 2"
   ]
  },
  {
   "cell_type": "markdown",
   "id": "f4341b28",
   "metadata": {},
   "source": [
    "There are **2** default arguments"
   ]
  },
  {
   "cell_type": "markdown",
   "id": "c2fe4af8",
   "metadata": {},
   "source": [
    "# Question 7.2 :\n",
    "Which function call will NOT return `True`?\n",
    "\n",
    "A. strongest_pokemon(60,'Poison', attack = 81)\n",
    "\n",
    "B. strongest_pokemon(hp = 60, type1 = 'Poison',type2 = 'Flying', attack = 81)\n",
    "\n",
    "C. strongest_pokemon(attack = 81, type2 = 'Flying', type1 = 'Poison' , hp = 60)\n",
    "\n",
    "D. strongest_pokemon(hp = 60, type1 = 'Poison', attack = 81)\n",
    "\n",
    "E. strongest_pokemon(hp = 60, type1 = 'Poison', 'Flying', 81)\n",
    "\n",
    "CORRECT ANSWER: E"
   ]
  },
  {
   "cell_type": "code",
   "execution_count": 14,
   "id": "a592d816",
   "metadata": {},
   "outputs": [
    {
     "ename": "SyntaxError",
     "evalue": "positional argument follows keyword argument (4154339711.py, line 1)",
     "output_type": "error",
     "traceback": [
      "\u001b[0;36m  Input \u001b[0;32mIn [14]\u001b[0;36m\u001b[0m\n\u001b[0;31m    strongest_pokemon(hp = 60, type1 = 'Poison', 'Flying', 81) # will crash\u001b[0m\n\u001b[0m                                                             ^\u001b[0m\n\u001b[0;31mSyntaxError\u001b[0m\u001b[0;31m:\u001b[0m positional argument follows keyword argument\n"
     ]
    }
   ],
   "source": [
    "strongest_pokemon(hp = 60, type1 = 'Poison', 'Flying', 81) # will crash"
   ]
  },
  {
   "cell_type": "markdown",
   "id": "9411fcf7",
   "metadata": {},
   "source": [
    "# Question 8 :\n",
    "Which of the following code can be used to shorten `strongest_pokemon`?\n",
    "\n",
    "A. `return attack > 80 and (hp >= 50 or type1=='Fire') and type2 == 'Flying'`\n",
    "\n",
    "B. `return (attack > 80 and hp >= 50) or (not type1=='Fire' and not type2 == 'Flying')`\n",
    "\n",
    "C. `return (attack > 80 or hp >= 50) and (type1=='Fire' or type2 == 'Flying')`\n",
    "\n",
    "D. `return (attack > 80 and hp >= 50) or (type1=='Fire' and type2 == 'Flying')`\n",
    "\n",
    "E. `return attack > 80 or (hp >= 50 and type1=='Fire') or type2 == 'Flying'`\n",
    "\n",
    "CORRECT ANSWER: D"
   ]
  },
  {
   "cell_type": "code",
   "execution_count": 15,
   "id": "0ceebc3e",
   "metadata": {},
   "outputs": [],
   "source": [
    "def strongest_pokemon_shorten(hp, type1 , type2 = 'Flying', attack = 40):\n",
    "    return (attack > 80 and hp >= 50) or (type1=='Fire' and type2 == 'Flying')"
   ]
  },
  {
   "cell_type": "markdown",
   "id": "33fc90c1",
   "metadata": {},
   "source": [
    "*Double-check:*"
   ]
  },
  {
   "cell_type": "code",
   "execution_count": 16,
   "id": "e0036217",
   "metadata": {},
   "outputs": [
    {
     "name": "stdout",
     "output_type": "stream",
     "text": [
      "False\n",
      "False\n",
      "True\n",
      "True\n",
      "True\n",
      "True\n"
     ]
    }
   ],
   "source": [
    "print(strongest_pokemon(5, 'Grass', 'Ground'))\n",
    "print(strongest_pokemon_shorten(5, 'Grass', 'Ground'))\n",
    "print(strongest_pokemon(60, 'Fire'))\n",
    "print(strongest_pokemon_shorten(60, 'Fire'))\n",
    "print(strongest_pokemon(60,'Poison', attack = 81))\n",
    "print(strongest_pokemon_shorten(60,'Poison', attack = 81))"
   ]
  }
 ],
 "metadata": {
  "kernelspec": {
   "display_name": "Python 3 (ipykernel)",
   "language": "python",
   "name": "python3"
  },
  "language_info": {
   "codemirror_mode": {
    "name": "ipython",
    "version": 3
   },
   "file_extension": ".py",
   "mimetype": "text/x-python",
   "name": "python",
   "nbconvert_exporter": "python",
   "pygments_lexer": "ipython3",
   "version": "3.9.12"
  }
 },
 "nbformat": 4,
 "nbformat_minor": 5
}
